{
 "cells": [
  {
   "cell_type": "markdown",
   "id": "7cafe753-7b5a-4cb3-9d4c-30b8d57eeda7",
   "metadata": {},
   "source": [
    "# Scratch"
   ]
  },
  {
   "cell_type": "markdown",
   "id": "0a4144e3-13b7-46b6-bdc8-4f2a4a3e8073",
   "metadata": {},
   "source": [
    "Figure out how much the sequence length varies in the data."
   ]
  },
  {
   "cell_type": "code",
   "execution_count": 15,
   "id": "c68defd6-9920-4731-9253-3b20359a78ea",
   "metadata": {},
   "outputs": [],
   "source": [
    "import pandas as pd\n",
    "import matplotlib.pyplot as plt"
   ]
  },
  {
   "cell_type": "code",
   "execution_count": 4,
   "id": "40795e07-67e1-4151-afe2-78c12c25ba30",
   "metadata": {},
   "outputs": [],
   "source": [
    "test = pd.read_csv('/scratch/gpfs/aa8417/QCB557_project/data/test.csv')\n",
    "train = pd.read_csv('/scratch/gpfs/aa8417/QCB557_project/data/train.csv')"
   ]
  },
  {
   "cell_type": "code",
   "execution_count": 9,
   "id": "f73276dd-149a-45ac-9251-fcda0345dede",
   "metadata": {},
   "outputs": [],
   "source": [
    "test_seqs = test['sequence'].tolist()\n",
    "train_seqs = train['sequence'].tolist()"
   ]
  },
  {
   "cell_type": "code",
   "execution_count": 11,
   "id": "c35353be-ea46-4c3c-9136-69c41571f3aa",
   "metadata": {},
   "outputs": [],
   "source": [
    "seqs = test_seqs + train_seqs"
   ]
  },
  {
   "cell_type": "code",
   "execution_count": 13,
   "id": "6de617a8-c060-4b7c-a587-effa2109ca32",
   "metadata": {},
   "outputs": [],
   "source": [
    "def get_seq_lengths(sequences):\n",
    "    seq_lengths = []\n",
    "    for sequence in sequences:\n",
    "        length = len(sequence)\n",
    "        seq_lengths.append(length)\n",
    "    return seq_lengths\n",
    "\n",
    "lengths = get_seq_lengths(seqs)"
   ]
  },
  {
   "cell_type": "code",
   "execution_count": 28,
   "id": "4ab75520-70f5-426c-ba91-de50b4fb5c73",
   "metadata": {},
   "outputs": [
    {
     "data": {
      "image/png": "[encoded data removed]",
      "text/plain": [
       "<Figure size 432x288 with 1 Axes>"
      ]
     },
     "metadata": {
      "needs_background": "light"
     },
     "output_type": "display_data"
    }
   ],
   "source": [
    "plt.hist(lengths, bins=20)\n",
    "plt.xlabel('length of DNA sequences in train and test set')\n",
    "plt.ylabel('frequency')\n",
    "plt.title('histogram of DNA sequence lengths')\n",
    "\n",
    "plt.show()"
   ]
  },
  {
   "cell_type": "code",
   "execution_count": 21,
   "id": "cf5b407f-e56e-43fe-861b-96ec03a16657",
   "metadata": {},
   "outputs": [
    {
     "data": {
      "text/plain": [
       "290"
      ]
     },
     "execution_count": 21,
     "metadata": {},
     "output_type": "execute_result"
    }
   ],
   "source": [
    "min(lengths)"
   ]
  },
  {
   "cell_type": "code",
   "execution_count": 19,
   "id": "00f5dec6-649f-489b-8891-22a772cf5458",
   "metadata": {},
   "outputs": [
    {
     "data": {
      "text/plain": [
       "500"
      ]
     },
     "execution_count": 19,
     "metadata": {},
     "output_type": "execute_result"
    }
   ],
   "source": [
    "max(lengths)"
   ]
  },
  {
   "cell_type": "markdown",
   "id": "ceecee31-46e9-49cf-a85c-b4ceeaf1debd",
   "metadata": {},
   "source": [
    "So, sequence lengths range from 290 to 500. So max_length in tokenizer should be 500."
   ]
  },
  {
   "cell_type": "markdown",
   "id": "36b05d4f-8ab2-468e-ac40-9d722b91cb2b",
   "metadata": {},
   "source": [
    "### Code bank"
   ]
  },
  {
   "cell_type": "code",
   "execution_count": null,
   "id": "4b5a7741-42f7-4214-be01-02ec68a7dc45",
   "metadata": {},
   "outputs": [],
   "source": [
    "#DON'T NEED THIS ANYMORE\n",
    "#change classification head of the model\n",
    "#reference: https://discuss.huggingface.co/t/how-do-i-change-the-classification-head-of-a-model/4720/3\n",
    "class BinaryDNABERT2Model(nn.Module):\n",
    "    def __init__(self):\n",
    "        super(BinaryDNABERT2Model, self).__init__()\n",
    "\n",
    "        self.base_model = AutoModel.from_pretrained(\"zhihan1996/DNABERT-2-117M\", trust_remote_code=True, config=config).to(device)\n",
    "        self.dropout = nn.Dropout(0.5)\n",
    "        self.linear = nn.Linear(768, 2) # output features from bert is 768 and 2 is number of labels\n",
    "        \n",
    "    def forward(self, input_ids, attn_mask):\n",
    "        outputs = self.base_model(input_ids, attention_mask=attn_mask)\n",
    "        # You write you new head here\n",
    "        outputs = self.dropout(outputs[0])\n",
    "        outputs = self.linear(outputs)\n",
    "        \n",
    "        return outputs"
   ]
  },
  {
   "cell_type": "code",
   "execution_count": null,
   "id": "c79c093a-95f6-4435-b1ce-4e034827169e",
   "metadata": {},
   "outputs": [],
   "source": [
    "class DataCollatorForSupervisedDataset(object):\n",
    "    \"\"\"Collate examples for supervised fine-tuning.\"\"\"\n",
    "\n",
    "    tokenizer: transformers.PreTrainedTokenizer\n",
    "\n",
    "    def __call__(self, instances: Sequence[Dict]) -> Dict[str, torch.Tensor]:\n",
    "        input_ids, labels = tuple([instance[key] for instance in instances] for key in (\"input_ids\", \"labels\"))\n",
    "        input_ids = torch.nn.utils.rnn.pad_sequence(\n",
    "            input_ids, batch_first=True, padding_value=self.tokenizer.pad_token_id\n",
    "        )\n",
    "        labels = torch.Tensor(labels).long()\n",
    "        return dict(\n",
    "            input_ids=input_ids,\n",
    "            labels=labels,\n",
    "            attention_mask=input_ids.ne(self.tokenizer.pad_token_id),\n",
    "        )"
   ]
  }
 ],
 "metadata": {
  "kernelspec": {
   "display_name": "Python 3 (ipykernel)",
   "language": "python",
   "name": "python3"
  },
  "language_info": {
   "codemirror_mode": {
    "name": "ipython",
    "version": 3
   },
   "file_extension": ".py",
   "mimetype": "text/x-python",
   "name": "python",
   "nbconvert_exporter": "python",
   "pygments_lexer": "ipython3",
   "version": "3.9.7"
  }
 },
 "nbformat": 4,
 "nbformat_minor": 5
}
