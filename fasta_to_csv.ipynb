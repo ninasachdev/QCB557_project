{
 "cells": [
  {
   "cell_type": "markdown",
   "id": "66f16c69-0b1d-4370-91d0-b9cfe71201b9",
   "metadata": {},
   "source": [
    "# FASTA to CSV"
   ]
  },
  {
   "cell_type": "code",
   "execution_count": 1,
   "id": "408c2316-c372-41ec-add7-5921d99101f6",
   "metadata": {},
   "outputs": [],
   "source": [
    "from Bio import SeqIO\n",
    "import csv"
   ]
  },
  {
   "cell_type": "code",
   "execution_count": 2,
   "id": "5a3d1a16-50f0-4435-8b39-8b3a90fe3691",
   "metadata": {},
   "outputs": [],
   "source": [
    "user = 'aa8417'\n",
    "#user = 'ns5404'\n",
    "#user = 'jf....'"
   ]
  },
  {
   "cell_type": "code",
   "execution_count": 3,
   "id": "069c1156-f445-44f1-bd6f-0a91ea08f517",
   "metadata": {},
   "outputs": [],
   "source": [
    "project_dir = f'/scratch/gpfs/{user}/QCB557_project'"
   ]
  },
  {
   "cell_type": "code",
   "execution_count": 4,
   "id": "39fb7137-5df4-4899-979f-e795cd76136b",
   "metadata": {},
   "outputs": [],
   "source": [
    "def fasta_to_csv(fasta_file_path, csv_file_path):\n",
    "    with open(fasta_file_path, 'r') as fasta_file, open(csv_file_path, 'w', newline='') as csv_file:\n",
    "        writer = csv.writer(csv_file)\n",
    "        writer.writerow(['sequence', 'label'])\n",
    "        for data_point in SeqIO.parse(fasta_file, 'fasta'):\n",
    "            label = data_point.id.split('|')[-1]\n",
    "            sequence = str(data_point.seq)\n",
    "            writer.writerow([sequence, label])"
   ]
  },
  {
   "cell_type": "code",
   "execution_count": 26,
   "id": "87fd8e8d-e638-4cf2-be4d-693d05f9a0d8",
   "metadata": {},
   "outputs": [],
   "source": [
    "data_spec = 'H4ac'"
   ]
  },
  {
   "cell_type": "code",
   "execution_count": 27,
   "id": "34a9f921-208a-4afe-9cf2-98fcf880ca71",
   "metadata": {},
   "outputs": [],
   "source": [
    "fasta_file_path = f'{project_dir}/data/{data_spec}/train.fna'\n",
    "csv_file_path = f'{project_dir}/data/{data_spec}/train.csv'\n",
    "fasta_to_csv(fasta_file_path, csv_file_path)"
   ]
  },
  {
   "cell_type": "code",
   "execution_count": 28,
   "id": "2d0f0718-e4fa-4bfa-96ac-b4aade5c194b",
   "metadata": {},
   "outputs": [],
   "source": [
    "fasta_file_path = f'{project_dir}/data/{data_spec}/test.fna'\n",
    "csv_file_path = f'{project_dir}/data/{data_spec}/test.csv'\n",
    "fasta_to_csv(fasta_file_path, csv_file_path)"
   ]
  },
  {
   "cell_type": "code",
   "execution_count": null,
   "id": "0ffb6e51-8bf7-4921-b866-eae9b185756a",
   "metadata": {},
   "outputs": [],
   "source": []
  }
 ],
 "metadata": {
  "kernelspec": {
   "display_name": "torch-env [~/.conda/envs/torch-env/]",
   "language": "python",
   "name": "conda_torch-env"
  },
  "language_info": {
   "codemirror_mode": {
    "name": "ipython",
    "version": 3
   },
   "file_extension": ".py",
   "mimetype": "text/x-python",
   "name": "python",
   "nbconvert_exporter": "python",
   "pygments_lexer": "ipython3",
   "version": "3.11.7"
  }
 },
 "nbformat": 4,
 "nbformat_minor": 5
}
